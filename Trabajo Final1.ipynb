{
 "cells": [
  {
   "cell_type": "code",
   "execution_count": 12,
   "metadata": {},
   "outputs": [
    {
     "name": "stdout",
     "output_type": "stream",
     "text": [
      "    Unnamed: 0 Unnamed: 1    Unnamed: 2 Unnamed: 3    Unnamed: 4  \\\n",
      "0           Bt         N°  N° Articulos        Sel     Gen Abrev   \n",
      "1          NaN          1           NaN        NaN     TRNAS-GGA   \n",
      "2          NaN          2           NaN        NaN  LOC102173449   \n",
      "3          NaN          3           NaN        NaN  LOC102169333   \n",
      "4          NaN          4           NaN        NaN  LOC108636757   \n",
      "..         ...        ...           ...        ...           ...   \n",
      "219        NaN        NaN           NaN        NaN      Milagros   \n",
      "220        NaN        NaN           NaN        NaN      Milagros   \n",
      "221        NaN        NaN           NaN        NaN      Milagros   \n",
      "222        NaN        NaN           NaN        NaN      Milagros   \n",
      "223        NaN        NaN           NaN        NaN      Milagros   \n",
      "\n",
      "              Unnamed: 5                                        Unnamed: 6  \\\n",
      "0               Category                                  Name of the gene   \n",
      "1                    NaN                                               NaN   \n",
      "2                 pseudo                       olfactory receptor 6C2-like   \n",
      "3                 pseudo  probable palmitoyltransferase ZDHHC16 pseudogene   \n",
      "4                  ncRNA                      uncharacterized LOC108636757   \n",
      "..                   ...                                               ...   \n",
      "219  2021-09-16 00:00:00                                                25   \n",
      "220  2021-09-20 00:00:00                           Termino de los 25 genes   \n",
      "221  2021-09-23 00:00:00                                Avance de 38 genes   \n",
      "222  2021-09-27 00:00:00                                Avance de 38 genes   \n",
      "223  2021-09-30 00:00:00                               Termino de 40 genes   \n",
      "\n",
      "    Localización Unnamed: 8 BREAST (Genecards)  ... Unnamed: 35 Unnamed: 36  \\\n",
      "0         Inicio      Final             RNASeq  ...         NaN         NaN   \n",
      "1       32091689   32091761                NaN  ...         NaN         NaN   \n",
      "2       32837131   32838076                NaN  ...         NaN         NaN   \n",
      "3       33089112   33090132                NaN  ...         NaN         NaN   \n",
      "4       33764252   33768221                NaN  ...         NaN         NaN   \n",
      "..           ...        ...                ...  ...         ...         ...   \n",
      "219         12am        1pm                  1  ...         NaN         NaN   \n",
      "220           11        1pm                  2  ...         NaN         NaN   \n",
      "221        11.30   12:30:00                  1  ...         NaN         NaN   \n",
      "222     12:00:00          1                  1  ...         NaN         NaN   \n",
      "223           11         12                  1  ...         NaN         NaN   \n",
      "\n",
      "    Unnamed: 37 Unnamed: 38 Unnamed: 39 Unnamed: 40 Unnamed: 41 Unnamed: 42  \\\n",
      "0           NaN         NaN         NaN         NaN         NaN         NaN   \n",
      "1           NaN         NaN         NaN         NaN         NaN         NaN   \n",
      "2           NaN         NaN         NaN         NaN         NaN         NaN   \n",
      "3           NaN         NaN         NaN         NaN         NaN         NaN   \n",
      "4           NaN         NaN         NaN         NaN         NaN         NaN   \n",
      "..          ...         ...         ...         ...         ...         ...   \n",
      "219         NaN         NaN         NaN         NaN         NaN         NaN   \n",
      "220         NaN         NaN         NaN         NaN         NaN         NaN   \n",
      "221         NaN         NaN         NaN         NaN         NaN         NaN   \n",
      "222         NaN         NaN         NaN         NaN         NaN         NaN   \n",
      "223         NaN         NaN         NaN         NaN         NaN         NaN   \n",
      "\n",
      "     Unnamed: 43  Unnamed: 44  \n",
      "0            NaN          NaN  \n",
      "1            NaN          NaN  \n",
      "2            NaN          NaN  \n",
      "3            NaN          NaN  \n",
      "4            NaN          NaN  \n",
      "..           ...          ...  \n",
      "219          NaN          NaN  \n",
      "220          NaN          NaN  \n",
      "221          NaN          NaN  \n",
      "222          NaN          NaN  \n",
      "223          NaN          NaN  \n",
      "\n",
      "[224 rows x 45 columns]\n"
     ]
    }
   ],
   "source": [
    "import pandas as pd\n",
    "import openpyxl\n",
    "import requests\n",
    "from bs4 import BeautifulSoup\n",
    "\n",
    "archivo = pd.read_excel(\"02 Ch Genes ordenados con vecinos.xlsx\", sheet_name='C1 Milagros')\n",
    "print(archivo)\n"
   ]
  },
  {
   "cell_type": "code",
   "execution_count": 14,
   "metadata": {},
   "outputs": [
    {
     "name": "stdout",
     "output_type": "stream",
     "text": [
      "['Gen Abrev' 'TRNAS-GGA' 'LOC102173449' 'LOC102169333' 'LOC108636757'\n",
      " 'LOC102187712' 'VGLL3' 'CHMP2B' 'POU1F1' 'HTR1F' 'LOC102188976' 'CGGBP1'\n",
      " 'ZNF654' 'C1H3orf38' 'LOC102190548' 'SLC12A8' 'LOC106502043' 'ZNF148'\n",
      " 'SNX4' 'OSBPL11' 'LMLN' 'RPL35A' 'IQCG' 'LRCH3' 'FYTTD1' 'RUBCN' 'MUC20'\n",
      " 'MUC4' 'TNK2' 'TFRC' 'ZDHHC19' 'SLC51A' 'PCYT1A' 'TCTEX1D2' 'TM4SF19'\n",
      " 'UBXN7' 'LOC102173689' 'LOC106501980' 'RNF168' 'SMCO1' 'WDR53' 'FBXO45'\n",
      " 'LOC102175715' 'NRROS' 'CEP19' 'PIGX' 'PAK2' 'LOC108635601' 'SENP5'\n",
      " 'NCBP2' 'PIGZ' 'LOC102176365' 'MELTF' 'RTP2' 'SST' 'RTP4' 'LOC102171192'\n",
      " 'MASP1' 'RTP1' 'LOC102179137' 'ST6GAL1' 'TRNAK-UUU' 'ADIPOQ' 'RFC4'\n",
      " 'EIF4A2' 'MIR1248' 'KNG1' 'HRG' 'FETUB' 'AHSG' 'LOC108635832' 'DNAJB11'\n",
      " 'TBCCD1' 'CRYGS' 'DGKG' 'ETV5' 'LOC102179418' 'LOC108635834'\n",
      " 'LOC102178398' 'IGF2BP2' 'SENP2' 'POLR2H' 'CLCN2' 'LOC106502122'\n",
      " 'FAM131A' 'EIF4G1' 'PSMD2' 'ECE2' 'CAMK2N2' 'ALG3' 'MIR1224' 'ABCF3'\n",
      " 'AP2M1' 'DVL3' 'EIF2B5' 'LOC102185396' 'LOC102185870' 'LOC102183010'\n",
      " 'LOC108636852' 'LOC102183269' 'ABCC5' 'LOC102183549' 'PARL' 'MAP6D1'\n",
      " 'YEATS2' 'LOC102187268' 'KLHL24' 'LOC108636351' 'KLHL6' 'LOC102188899'\n",
      " 'MCF2L2' 'LOC102189625' 'LOC108635871' 'B3GNT5' 'LOC106501989' 'LAMP3'\n",
      " 'MCCC1' 'DCUN1D1' 'ATP11B' 'TRNAS-GGA' 'LOC106502158' 'TNIK' 'SLC2A2'\n",
      " 'LOC102189522' 'EIF5A2' 'RPL22L1' 'SLC7A14' 'CLDN11' 'SKIL' 'PRKCI'\n",
      " 'PHC3' 'LOC102179814' 'GPR160' 'LOC108636005' 'LOC102189800' 'SEC62'\n",
      " 'SAMD7' 'LRRC31' 'LRRIQ4' 'TRNAY-GUA' 'LRRC34' 'MYNN' 'ACTRT3'\n",
      " 'TRNAV-AAC' 'LOC108636013' 'LOC106502248' 'SHOX2' 'VEPH1' 'LOC102179325'\n",
      " 'PTX3' 'LOC108636061' 'CCNL1' 'LOC106502323' 'LEKR1' 'TIPARP'\n",
      " 'LOC102177566' 'SSR3' 'LOC102179240' 'LOC102179815' 'RAP2B' 'P2RY1'\n",
      " 'LOC106502324' 'MBNL1' 'LOC102180350' 'SUCNR1' 'LOC102189434'\n",
      " 'LOC102181165' 'LOC102176168' 'LOC102189713' 'LOC102179183'\n",
      " 'LOC102179464' 'LOC102178896' 'LOC108636081' 'TFF3' 'TFF2' 'TFF1'\n",
      " 'TMPRSS3' 'UBASH3A' 'RSPH1' 'SLC37A1' 'PDE9A' 'WDR4' 'NDUFV3' 'PKNOX1'\n",
      " 'ADARB1' 'POFUT2' 'COL18A1' 'SLC19A1' 'PCBP3' 'LOC102190823' 'COL6A1'\n",
      " 'COL6A2' 'FTCD' 'SPATC1L' 'LSS' 'MCM3AP' 'YBEY' 'C1H21orf58' 'PCNT'\n",
      " 'LOC108636576' 'LOC102169226' 'DIP2A' 'S100B' 'PRMT2' 'FBXO25' 'TDRP'\n",
      " 'LOC102177758' 'DAZL' 'PLCL2' 'TBC1D5' 'TRNAW-CCA' 'SATB1' 'KCNH8' nan\n",
      " nan 'Persona' 'Milagros' 'Milagros' 'Milagros' 'Milagros' 'Milagros'\n",
      " 'Milagros' 'Milagros' 'Milagros']\n"
     ]
    }
   ],
   "source": [
    "values = archivo[\"Unnamed: 4\"].values\n",
    "print(values)"
   ]
  },
  {
   "cell_type": "code",
   "execution_count": 16,
   "metadata": {},
   "outputs": [
    {
     "name": "stdout",
     "output_type": "stream",
     "text": [
      "['Gen Abrev', 'TRNAS-GGA', 'LOC102173449', 'LOC102169333', 'LOC108636757', 'LOC102187712', 'VGLL3', 'CHMP2B', 'POU1F1', 'HTR1F', 'LOC102188976', 'CGGBP1', 'ZNF654', 'C1H3orf38', 'LOC102190548', 'SLC12A8', 'LOC106502043', 'ZNF148', 'SNX4', 'OSBPL11', 'LMLN', 'RPL35A', 'IQCG', 'LRCH3', 'FYTTD1', 'RUBCN', 'MUC20', 'MUC4', 'TNK2', 'TFRC', 'ZDHHC19', 'SLC51A', 'PCYT1A', 'TCTEX1D2', 'TM4SF19', 'UBXN7', 'LOC102173689', 'LOC106501980', 'RNF168', 'SMCO1', 'WDR53', 'FBXO45', 'LOC102175715', 'NRROS', 'CEP19', 'PIGX', 'PAK2', 'LOC108635601', 'SENP5', 'NCBP2', 'PIGZ', 'LOC102176365', 'MELTF', 'RTP2', 'SST', 'RTP4', 'LOC102171192', 'MASP1', 'RTP1', 'LOC102179137', 'ST6GAL1', 'TRNAK-UUU', 'ADIPOQ', 'RFC4', 'EIF4A2', 'MIR1248', 'KNG1', 'HRG', 'FETUB', 'AHSG', 'LOC108635832', 'DNAJB11', 'TBCCD1', 'CRYGS', 'DGKG', 'ETV5', 'LOC102179418', 'LOC108635834', 'LOC102178398', 'IGF2BP2', 'SENP2', 'POLR2H', 'CLCN2', 'LOC106502122', 'FAM131A', 'EIF4G1', 'PSMD2', 'ECE2', 'CAMK2N2', 'ALG3', 'MIR1224', 'ABCF3', 'AP2M1', 'DVL3', 'EIF2B5', 'LOC102185396', 'LOC102185870', 'LOC102183010', 'LOC108636852', 'LOC102183269', 'ABCC5', 'LOC102183549', 'PARL', 'MAP6D1', 'YEATS2', 'LOC102187268', 'KLHL24', 'LOC108636351', 'KLHL6', 'LOC102188899', 'MCF2L2', 'LOC102189625', 'LOC108635871', 'B3GNT5', 'LOC106501989', 'LAMP3', 'MCCC1', 'DCUN1D1', 'ATP11B', 'TRNAS-GGA', 'LOC106502158', 'TNIK', 'SLC2A2', 'LOC102189522', 'EIF5A2', 'RPL22L1', 'SLC7A14', 'CLDN11', 'SKIL', 'PRKCI', 'PHC3', 'LOC102179814', 'GPR160', 'LOC108636005', 'LOC102189800', 'SEC62', 'SAMD7', 'LRRC31', 'LRRIQ4', 'TRNAY-GUA', 'LRRC34', 'MYNN', 'ACTRT3', 'TRNAV-AAC', 'LOC108636013', 'LOC106502248', 'SHOX2', 'VEPH1', 'LOC102179325', 'PTX3', 'LOC108636061', 'CCNL1', 'LOC106502323', 'LEKR1', 'TIPARP', 'LOC102177566', 'SSR3', 'LOC102179240', 'LOC102179815', 'RAP2B', 'P2RY1', 'LOC106502324', 'MBNL1', 'LOC102180350', 'SUCNR1', 'LOC102189434', 'LOC102181165', 'LOC102176168', 'LOC102189713', 'LOC102179183', 'LOC102179464', 'LOC102178896', 'LOC108636081', 'TFF3', 'TFF2', 'TFF1', 'TMPRSS3', 'UBASH3A', 'RSPH1', 'SLC37A1', 'PDE9A', 'WDR4', 'NDUFV3', 'PKNOX1', 'ADARB1', 'POFUT2', 'COL18A1', 'SLC19A1', 'PCBP3', 'LOC102190823', 'COL6A1', 'COL6A2', 'FTCD', 'SPATC1L', 'LSS', 'MCM3AP', 'YBEY', 'C1H21orf58', 'PCNT', 'LOC108636576', 'LOC102169226', 'DIP2A', 'S100B', 'PRMT2', 'FBXO25', 'TDRP', 'LOC102177758', 'DAZL', 'PLCL2', 'TBC1D5', 'TRNAW-CCA', 'SATB1', 'KCNH8', nan, nan, 'Persona', 'Milagros', 'Milagros', 'Milagros', 'Milagros', 'Milagros', 'Milagros', 'Milagros', 'Milagros']\n"
     ]
    }
   ],
   "source": [
    "lista = values.tolist()\n",
    "print(lista)"
   ]
  },
  {
   "cell_type": "code",
   "execution_count": 17,
   "metadata": {},
   "outputs": [
    {
     "data": {
      "text/plain": [
       "'Gen Abrev'"
      ]
     },
     "execution_count": 17,
     "metadata": {},
     "output_type": "execute_result"
    }
   ],
   "source": [
    "lista.pop(0)"
   ]
  },
  {
   "cell_type": "code",
   "execution_count": 18,
   "metadata": {},
   "outputs": [
    {
     "name": "stdout",
     "output_type": "stream",
     "text": [
      "['TRNAS-GGA', 'LOC102173449', 'LOC102169333', 'LOC108636757', 'LOC102187712', 'VGLL3', 'CHMP2B', 'POU1F1', 'HTR1F', 'LOC102188976', 'CGGBP1', 'ZNF654', 'C1H3orf38', 'LOC102190548', 'SLC12A8', 'LOC106502043', 'ZNF148', 'SNX4', 'OSBPL11', 'LMLN', 'RPL35A', 'IQCG', 'LRCH3', 'FYTTD1', 'RUBCN', 'MUC20', 'MUC4', 'TNK2', 'TFRC', 'ZDHHC19', 'SLC51A', 'PCYT1A', 'TCTEX1D2', 'TM4SF19', 'UBXN7', 'LOC102173689', 'LOC106501980', 'RNF168', 'SMCO1', 'WDR53', 'FBXO45', 'LOC102175715', 'NRROS', 'CEP19', 'PIGX', 'PAK2', 'LOC108635601', 'SENP5', 'NCBP2', 'PIGZ', 'LOC102176365', 'MELTF', 'RTP2', 'SST', 'RTP4', 'LOC102171192', 'MASP1', 'RTP1', 'LOC102179137', 'ST6GAL1', 'TRNAK-UUU', 'ADIPOQ', 'RFC4', 'EIF4A2', 'MIR1248', 'KNG1', 'HRG', 'FETUB', 'AHSG', 'LOC108635832', 'DNAJB11', 'TBCCD1', 'CRYGS', 'DGKG', 'ETV5', 'LOC102179418', 'LOC108635834', 'LOC102178398', 'IGF2BP2', 'SENP2', 'POLR2H', 'CLCN2', 'LOC106502122', 'FAM131A', 'EIF4G1', 'PSMD2', 'ECE2', 'CAMK2N2', 'ALG3', 'MIR1224', 'ABCF3', 'AP2M1', 'DVL3', 'EIF2B5', 'LOC102185396', 'LOC102185870', 'LOC102183010', 'LOC108636852', 'LOC102183269', 'ABCC5', 'LOC102183549', 'PARL', 'MAP6D1', 'YEATS2', 'LOC102187268', 'KLHL24', 'LOC108636351', 'KLHL6', 'LOC102188899', 'MCF2L2', 'LOC102189625', 'LOC108635871', 'B3GNT5', 'LOC106501989', 'LAMP3', 'MCCC1', 'DCUN1D1', 'ATP11B', 'TRNAS-GGA', 'LOC106502158', 'TNIK', 'SLC2A2', 'LOC102189522', 'EIF5A2', 'RPL22L1', 'SLC7A14', 'CLDN11', 'SKIL', 'PRKCI', 'PHC3', 'LOC102179814', 'GPR160', 'LOC108636005', 'LOC102189800', 'SEC62', 'SAMD7', 'LRRC31', 'LRRIQ4', 'TRNAY-GUA', 'LRRC34', 'MYNN', 'ACTRT3', 'TRNAV-AAC', 'LOC108636013', 'LOC106502248', 'SHOX2', 'VEPH1', 'LOC102179325', 'PTX3', 'LOC108636061', 'CCNL1', 'LOC106502323', 'LEKR1', 'TIPARP', 'LOC102177566', 'SSR3', 'LOC102179240', 'LOC102179815', 'RAP2B', 'P2RY1', 'LOC106502324', 'MBNL1', 'LOC102180350', 'SUCNR1', 'LOC102189434', 'LOC102181165', 'LOC102176168', 'LOC102189713', 'LOC102179183', 'LOC102179464', 'LOC102178896', 'LOC108636081', 'TFF3', 'TFF2', 'TFF1', 'TMPRSS3', 'UBASH3A', 'RSPH1', 'SLC37A1', 'PDE9A', 'WDR4', 'NDUFV3', 'PKNOX1', 'ADARB1', 'POFUT2', 'COL18A1', 'SLC19A1', 'PCBP3', 'LOC102190823', 'COL6A1', 'COL6A2', 'FTCD', 'SPATC1L', 'LSS', 'MCM3AP', 'YBEY', 'C1H21orf58', 'PCNT', 'LOC108636576', 'LOC102169226', 'DIP2A', 'S100B', 'PRMT2', 'FBXO25', 'TDRP', 'LOC102177758', 'DAZL', 'PLCL2', 'TBC1D5', 'TRNAW-CCA', 'SATB1', 'KCNH8', nan, nan, 'Persona', 'Milagros', 'Milagros', 'Milagros', 'Milagros', 'Milagros', 'Milagros', 'Milagros', 'Milagros']\n"
     ]
    }
   ],
   "source": [
    "print(lista)"
   ]
  },
  {
   "cell_type": "code",
   "execution_count": 19,
   "metadata": {},
   "outputs": [
    {
     "name": "stdout",
     "output_type": "stream",
     "text": [
      "['TRNAS-GGA', 'LOC102173449', 'LOC102169333', 'LOC108636757', 'LOC102187712', 'VGLL3', 'CHMP2B', 'POU1F1', 'HTR1F', 'LOC102188976', 'CGGBP1', 'ZNF654', 'C1H3orf38', 'LOC102190548', 'SLC12A8', 'LOC106502043', 'ZNF148', 'SNX4', 'OSBPL11', 'LMLN', 'RPL35A', 'IQCG', 'LRCH3', 'FYTTD1', 'RUBCN', 'MUC20', 'MUC4', 'TNK2', 'TFRC', 'ZDHHC19', 'SLC51A', 'PCYT1A', 'TCTEX1D2', 'TM4SF19', 'UBXN7', 'LOC102173689', 'LOC106501980', 'RNF168', 'SMCO1', 'WDR53', 'FBXO45', 'LOC102175715', 'NRROS', 'CEP19', 'PIGX', 'PAK2', 'LOC108635601', 'SENP5', 'NCBP2', 'PIGZ', 'LOC102176365', 'MELTF', 'RTP2', 'SST', 'RTP4', 'LOC102171192', 'MASP1', 'RTP1', 'LOC102179137', 'ST6GAL1', 'TRNAK-UUU', 'ADIPOQ', 'RFC4', 'EIF4A2', 'MIR1248', 'KNG1', 'HRG', 'FETUB', 'AHSG', 'LOC108635832', 'DNAJB11', 'TBCCD1', 'CRYGS', 'DGKG', 'ETV5', 'LOC102179418', 'LOC108635834', 'LOC102178398', 'IGF2BP2', 'SENP2', 'POLR2H', 'CLCN2', 'LOC106502122', 'FAM131A', 'EIF4G1', 'PSMD2', 'ECE2', 'CAMK2N2', 'ALG3', 'MIR1224', 'ABCF3', 'AP2M1', 'DVL3', 'EIF2B5', 'LOC102185396', 'LOC102185870', 'LOC102183010', 'LOC108636852', 'LOC102183269', 'ABCC5', 'LOC102183549', 'PARL', 'MAP6D1', 'YEATS2', 'LOC102187268', 'KLHL24', 'LOC108636351', 'KLHL6', 'LOC102188899', 'MCF2L2', 'LOC102189625', 'LOC108635871', 'B3GNT5', 'LOC106501989', 'LAMP3', 'MCCC1', 'DCUN1D1', 'ATP11B', 'TRNAS-GGA', 'LOC106502158', 'TNIK', 'SLC2A2', 'LOC102189522', 'EIF5A2', 'RPL22L1', 'SLC7A14', 'CLDN11', 'SKIL', 'PRKCI', 'PHC3', 'LOC102179814', 'GPR160', 'LOC108636005', 'LOC102189800', 'SEC62', 'SAMD7', 'LRRC31', 'LRRIQ4', 'TRNAY-GUA', 'LRRC34', 'MYNN', 'ACTRT3', 'TRNAV-AAC', 'LOC108636013', 'LOC106502248', 'SHOX2', 'VEPH1', 'LOC102179325', 'PTX3', 'LOC108636061', 'CCNL1', 'LOC106502323', 'LEKR1', 'TIPARP', 'LOC102177566', 'SSR3', 'LOC102179240', 'LOC102179815', 'RAP2B', 'P2RY1', 'LOC106502324', 'MBNL1', 'LOC102180350', 'SUCNR1', 'LOC102189434', 'LOC102181165', 'LOC102176168', 'LOC102189713', 'LOC102179183', 'LOC102179464', 'LOC102178896', 'LOC108636081', 'TFF3', 'TFF2', 'TFF1', 'TMPRSS3', 'UBASH3A', 'RSPH1', 'SLC37A1', 'PDE9A', 'WDR4', 'NDUFV3', 'PKNOX1', 'ADARB1', 'POFUT2', 'COL18A1', 'SLC19A1', 'PCBP3', 'LOC102190823', 'COL6A1', 'COL6A2', 'FTCD', 'SPATC1L', 'LSS', 'MCM3AP', 'YBEY', 'C1H21orf58', 'PCNT', 'LOC108636576', 'LOC102169226', 'DIP2A', 'S100B', 'PRMT2', 'FBXO25', 'TDRP', 'LOC102177758', 'DAZL', 'PLCL2', 'TBC1D5', 'TRNAW-CCA', 'SATB1', 'KCNH8']\n"
     ]
    }
   ],
   "source": [
    "del lista[-11:]\n",
    "\n",
    "print(lista)"
   ]
  },
  {
   "cell_type": "code",
   "execution_count": 20,
   "metadata": {},
   "outputs": [
    {
     "name": "stdout",
     "output_type": "stream",
     "text": [
      "1 : TRNAS-GGA\n"
     ]
    },
    {
     "ename": "FileNotFoundError",
     "evalue": "[Errno 2] No such file or directory: 'Reporte.xlsx'",
     "output_type": "error",
     "traceback": [
      "\u001b[1;31m---------------------------------------------------------------------------\u001b[0m",
      "\u001b[1;31mFileNotFoundError\u001b[0m                         Traceback (most recent call last)",
      "\u001b[1;32m<ipython-input-20-bb6b362b4119>\u001b[0m in \u001b[0;36m<module>\u001b[1;34m\u001b[0m\n\u001b[0;32m     61\u001b[0m         \u001b[0mBIO_PROCESS\u001b[0m\u001b[1;33m=\u001b[0m\u001b[1;34m\"Sin Resultados\"\u001b[0m\u001b[1;33m\u001b[0m\u001b[1;33m\u001b[0m\u001b[0m\n\u001b[0;32m     62\u001b[0m \u001b[1;33m\u001b[0m\u001b[0m\n\u001b[1;32m---> 63\u001b[1;33m     \u001b[0mexcel\u001b[0m\u001b[1;33m=\u001b[0m\u001b[0mopenpyxl\u001b[0m\u001b[1;33m.\u001b[0m\u001b[0mload_workbook\u001b[0m\u001b[1;33m(\u001b[0m\u001b[1;34m'Reporte.xlsx'\u001b[0m\u001b[1;33m)\u001b[0m\u001b[1;33m\u001b[0m\u001b[1;33m\u001b[0m\u001b[0m\n\u001b[0m\u001b[0;32m     64\u001b[0m     \u001b[0msheet\u001b[0m\u001b[1;33m=\u001b[0m\u001b[0mexcel\u001b[0m\u001b[1;33m[\u001b[0m\u001b[1;34m'Hoja1'\u001b[0m\u001b[1;33m]\u001b[0m\u001b[1;33m\u001b[0m\u001b[1;33m\u001b[0m\u001b[0m\n\u001b[0;32m     65\u001b[0m     \u001b[0msheet\u001b[0m\u001b[1;33m.\u001b[0m\u001b[0mcell\u001b[0m\u001b[1;33m(\u001b[0m\u001b[0mrow\u001b[0m\u001b[1;33m=\u001b[0m\u001b[0mm\u001b[0m\u001b[1;33m,\u001b[0m\u001b[0mcolumn\u001b[0m\u001b[1;33m=\u001b[0m\u001b[1;36m3\u001b[0m\u001b[1;33m)\u001b[0m\u001b[1;33m.\u001b[0m\u001b[0mvalue\u001b[0m \u001b[1;33m=\u001b[0m \u001b[0mENTRY\u001b[0m\u001b[1;33m\u001b[0m\u001b[1;33m\u001b[0m\u001b[0m\n",
      "\u001b[1;32mC:\\ProgramData\\Anaconda3\\lib\\site-packages\\openpyxl\\reader\\excel.py\u001b[0m in \u001b[0;36mload_workbook\u001b[1;34m(filename, read_only, keep_vba, data_only, keep_links)\u001b[0m\n\u001b[0;32m    313\u001b[0m \u001b[1;33m\u001b[0m\u001b[0m\n\u001b[0;32m    314\u001b[0m     \"\"\"\n\u001b[1;32m--> 315\u001b[1;33m     reader = ExcelReader(filename, read_only, keep_vba,\n\u001b[0m\u001b[0;32m    316\u001b[0m                         data_only, keep_links)\n\u001b[0;32m    317\u001b[0m     \u001b[0mreader\u001b[0m\u001b[1;33m.\u001b[0m\u001b[0mread\u001b[0m\u001b[1;33m(\u001b[0m\u001b[1;33m)\u001b[0m\u001b[1;33m\u001b[0m\u001b[1;33m\u001b[0m\u001b[0m\n",
      "\u001b[1;32mC:\\ProgramData\\Anaconda3\\lib\\site-packages\\openpyxl\\reader\\excel.py\u001b[0m in \u001b[0;36m__init__\u001b[1;34m(self, fn, read_only, keep_vba, data_only, keep_links)\u001b[0m\n\u001b[0;32m    122\u001b[0m     def __init__(self,  fn, read_only=False, keep_vba=KEEP_VBA,\n\u001b[0;32m    123\u001b[0m                   data_only=False, keep_links=True):\n\u001b[1;32m--> 124\u001b[1;33m         \u001b[0mself\u001b[0m\u001b[1;33m.\u001b[0m\u001b[0marchive\u001b[0m \u001b[1;33m=\u001b[0m \u001b[0m_validate_archive\u001b[0m\u001b[1;33m(\u001b[0m\u001b[0mfn\u001b[0m\u001b[1;33m)\u001b[0m\u001b[1;33m\u001b[0m\u001b[1;33m\u001b[0m\u001b[0m\n\u001b[0m\u001b[0;32m    125\u001b[0m         \u001b[0mself\u001b[0m\u001b[1;33m.\u001b[0m\u001b[0mvalid_files\u001b[0m \u001b[1;33m=\u001b[0m \u001b[0mself\u001b[0m\u001b[1;33m.\u001b[0m\u001b[0marchive\u001b[0m\u001b[1;33m.\u001b[0m\u001b[0mnamelist\u001b[0m\u001b[1;33m(\u001b[0m\u001b[1;33m)\u001b[0m\u001b[1;33m\u001b[0m\u001b[1;33m\u001b[0m\u001b[0m\n\u001b[0;32m    126\u001b[0m         \u001b[0mself\u001b[0m\u001b[1;33m.\u001b[0m\u001b[0mread_only\u001b[0m \u001b[1;33m=\u001b[0m \u001b[0mread_only\u001b[0m\u001b[1;33m\u001b[0m\u001b[1;33m\u001b[0m\u001b[0m\n",
      "\u001b[1;32mC:\\ProgramData\\Anaconda3\\lib\\site-packages\\openpyxl\\reader\\excel.py\u001b[0m in \u001b[0;36m_validate_archive\u001b[1;34m(filename)\u001b[0m\n\u001b[0;32m     94\u001b[0m             \u001b[1;32mraise\u001b[0m \u001b[0mInvalidFileException\u001b[0m\u001b[1;33m(\u001b[0m\u001b[0mmsg\u001b[0m\u001b[1;33m)\u001b[0m\u001b[1;33m\u001b[0m\u001b[1;33m\u001b[0m\u001b[0m\n\u001b[0;32m     95\u001b[0m \u001b[1;33m\u001b[0m\u001b[0m\n\u001b[1;32m---> 96\u001b[1;33m     \u001b[0marchive\u001b[0m \u001b[1;33m=\u001b[0m \u001b[0mZipFile\u001b[0m\u001b[1;33m(\u001b[0m\u001b[0mfilename\u001b[0m\u001b[1;33m,\u001b[0m \u001b[1;34m'r'\u001b[0m\u001b[1;33m)\u001b[0m\u001b[1;33m\u001b[0m\u001b[1;33m\u001b[0m\u001b[0m\n\u001b[0m\u001b[0;32m     97\u001b[0m     \u001b[1;32mreturn\u001b[0m \u001b[0marchive\u001b[0m\u001b[1;33m\u001b[0m\u001b[1;33m\u001b[0m\u001b[0m\n\u001b[0;32m     98\u001b[0m \u001b[1;33m\u001b[0m\u001b[0m\n",
      "\u001b[1;32mC:\\ProgramData\\Anaconda3\\lib\\zipfile.py\u001b[0m in \u001b[0;36m__init__\u001b[1;34m(self, file, mode, compression, allowZip64, compresslevel, strict_timestamps)\u001b[0m\n\u001b[0;32m   1249\u001b[0m             \u001b[1;32mwhile\u001b[0m \u001b[1;32mTrue\u001b[0m\u001b[1;33m:\u001b[0m\u001b[1;33m\u001b[0m\u001b[1;33m\u001b[0m\u001b[0m\n\u001b[0;32m   1250\u001b[0m                 \u001b[1;32mtry\u001b[0m\u001b[1;33m:\u001b[0m\u001b[1;33m\u001b[0m\u001b[1;33m\u001b[0m\u001b[0m\n\u001b[1;32m-> 1251\u001b[1;33m                     \u001b[0mself\u001b[0m\u001b[1;33m.\u001b[0m\u001b[0mfp\u001b[0m \u001b[1;33m=\u001b[0m \u001b[0mio\u001b[0m\u001b[1;33m.\u001b[0m\u001b[0mopen\u001b[0m\u001b[1;33m(\u001b[0m\u001b[0mfile\u001b[0m\u001b[1;33m,\u001b[0m \u001b[0mfilemode\u001b[0m\u001b[1;33m)\u001b[0m\u001b[1;33m\u001b[0m\u001b[1;33m\u001b[0m\u001b[0m\n\u001b[0m\u001b[0;32m   1252\u001b[0m                 \u001b[1;32mexcept\u001b[0m \u001b[0mOSError\u001b[0m\u001b[1;33m:\u001b[0m\u001b[1;33m\u001b[0m\u001b[1;33m\u001b[0m\u001b[0m\n\u001b[0;32m   1253\u001b[0m                     \u001b[1;32mif\u001b[0m \u001b[0mfilemode\u001b[0m \u001b[1;32min\u001b[0m \u001b[0mmodeDict\u001b[0m\u001b[1;33m:\u001b[0m\u001b[1;33m\u001b[0m\u001b[1;33m\u001b[0m\u001b[0m\n",
      "\u001b[1;31mFileNotFoundError\u001b[0m: [Errno 2] No such file or directory: 'Reporte.xlsx'"
     ]
    }
   ],
   "source": [
    "m=3\n",
    "for i in lista:\n",
    "    print(m-2,\":\",i)\n",
    "    URL=f\"https://www.uniprot.org/uniprot/?query={i}+Capra+Hircus&sort=score\"\n",
    "    page=requests.get(URL)\n",
    "    soup=BeautifulSoup(page.content,\"html.parser\")\n",
    "\n",
    "    link_entry=soup.find_all(\"td\",class_=\"entryID\")\n",
    "    indice=[]\n",
    "    for P in link_entry:\n",
    "        indice.append(P.text)\n",
    "    try:\n",
    "        FINAL=indice[0]\n",
    "        url=f\"https://www.uniprot.org/uniprot/{FINAL}\"\n",
    "        page=requests.get(url)\n",
    "        soup=BeautifulSoup(page.content,\"html.parser\")\n",
    "               \n",
    "        #ENTRY Y ENTRY NAME\n",
    "        entry_name=soup.find_all(\"h2\",class_=\"page-title\")\n",
    "        for Q in entry_name:\n",
    "            entry1=Q.text\n",
    "        entry1=entry1.split()\n",
    "        ENTRY=entry1[2]\n",
    "        ENTRY_NAME=\"\".join(list(entry1[3])[1:len(list(entry1[3]))-1])\n",
    "\n",
    "        #PROTEINA\n",
    "        protein=soup.find_all(\"h1\",property=\"name\")\n",
    "        for Q in protein:\n",
    "            PROTEIN=Q.text\n",
    "\n",
    "        #GEN\n",
    "        gen_abrev=soup.find_all(\"div\",class_='entry-overview-content',id=\"content-gene\")\n",
    "        for Q in gen_abrev:\n",
    "            GEN_ABREV=Q.text\n",
    "\n",
    "        #ORGANISMO\n",
    "        organismo=soup.find_all(\"div\",class_='entry-overview-content',id=\"content-organism\")\n",
    "        for Q in organismo:\n",
    "            ORGANISMO=Q.text\n",
    "\n",
    "        #STATUS\n",
    "        status=soup.find_all(\"span\",class_='context-help bin-score tooltipped-click')\n",
    "        for Q in status:\n",
    "            STATUS_PRE=Q.text\n",
    "        STATUS=STATUS_PRE.split(\"\\n\")[0].split(\":\")[1]\n",
    "\n",
    "        #GO BIOLOGICAL PROCESS\n",
    "        bio_process=soup.find_all(\"a\",onclick=\"window.ga('UniProt-Entry-View', 'click', 'Display-GO-Term');\")\n",
    "        BIO_PROCESS=[]\n",
    "        for Q in bio_process:\n",
    "            BIO_PROCESS.append(Q.text)\n",
    "        BIO_PROCESS=str(BIO_PROCESS)\n",
    "\n",
    "    except:\n",
    "        ENTRY=\"Sin Resultados\"\n",
    "        ENTRY_NAME=\"Sin Resultados\"\n",
    "        PROTEIN=\"Sin Resultados\"\n",
    "        GEN_ABREV=\"Sin Resultados\"\n",
    "        ORGANISMO=\"Sin Resultados\"\n",
    "        STATUS=\"Sin Resultados\"\n",
    "        BIO_PROCESS=\"Sin Resultados\"\n",
    "        \n",
    "    excel=openpyxl.load_workbook('Reporte.xlsx')\n",
    "    sheet=excel['Hoja1']\n",
    "    sheet.cell(row=m,column=3).value = ENTRY\n",
    "    sheet.cell(row=m,column=4).value = ENTRY_NAME\n",
    "    sheet.cell(row=m,column=5).value = PROTEIN\n",
    "    sheet.cell(row=m,column=6).value = GEN_ABREV\n",
    "    sheet.cell(row=m,column=7).value = ORGANISMO\n",
    "    sheet.cell(row=m,column=8).value = STATUS\n",
    "    sheet.cell(row=m,column=9).value = BIO_PROCESS\n",
    "    excel.save('Reporte.xlsx')\n",
    "    m=m+1"
   ]
  },
  {
   "cell_type": "code",
   "execution_count": 5,
   "metadata": {},
   "outputs": [
    {
     "ename": "NameError",
     "evalue": "name 'lista' is not defined",
     "output_type": "error",
     "traceback": [
      "\u001b[1;31m---------------------------------------------------------------------------\u001b[0m",
      "\u001b[1;31mNameError\u001b[0m                                 Traceback (most recent call last)",
      "\u001b[1;32m<ipython-input-5-f8f903135055>\u001b[0m in \u001b[0;36m<module>\u001b[1;34m\u001b[0m\n\u001b[1;32m----> 1\u001b[1;33m \u001b[0mlista\u001b[0m\u001b[1;33m.\u001b[0m\u001b[0minsert\u001b[0m\u001b[1;33m(\u001b[0m\u001b[1;36m0\u001b[0m\u001b[1;33m,\u001b[0m\u001b[1;34m\"GEN ABREV\"\u001b[0m\u001b[1;33m)\u001b[0m\u001b[1;33m\u001b[0m\u001b[1;33m\u001b[0m\u001b[0m\n\u001b[0m",
      "\u001b[1;31mNameError\u001b[0m: name 'lista' is not defined"
     ]
    }
   ],
   "source": [
    "lista.insert(0,\"GEN ABREV\")"
   ]
  },
  {
   "cell_type": "code",
   "execution_count": 4,
   "metadata": {},
   "outputs": [
    {
     "ename": "NameError",
     "evalue": "name 'lista' is not defined",
     "output_type": "error",
     "traceback": [
      "\u001b[1;31m---------------------------------------------------------------------------\u001b[0m",
      "\u001b[1;31mNameError\u001b[0m                                 Traceback (most recent call last)",
      "\u001b[1;32m<ipython-input-4-232fa446ace9>\u001b[0m in \u001b[0;36m<module>\u001b[1;34m\u001b[0m\n\u001b[1;32m----> 1\u001b[1;33m \u001b[0mprint\u001b[0m\u001b[1;33m(\u001b[0m\u001b[0mlista\u001b[0m\u001b[1;33m)\u001b[0m\u001b[1;33m\u001b[0m\u001b[1;33m\u001b[0m\u001b[0m\n\u001b[0m",
      "\u001b[1;31mNameError\u001b[0m: name 'lista' is not defined"
     ]
    }
   ],
   "source": [
    "print(lista)"
   ]
  },
  {
   "cell_type": "code",
   "execution_count": 3,
   "metadata": {},
   "outputs": [
    {
     "ename": "NameError",
     "evalue": "name 'lista' is not defined",
     "output_type": "error",
     "traceback": [
      "\u001b[1;31m---------------------------------------------------------------------------\u001b[0m",
      "\u001b[1;31mNameError\u001b[0m                                 Traceback (most recent call last)",
      "\u001b[1;32m<ipython-input-3-90911814b96f>\u001b[0m in \u001b[0;36m<module>\u001b[1;34m\u001b[0m\n\u001b[0;32m      1\u001b[0m \u001b[1;32mfrom\u001b[0m \u001b[0mopenpyxl\u001b[0m \u001b[1;32mimport\u001b[0m \u001b[0mload_workbook\u001b[0m\u001b[1;33m\u001b[0m\u001b[1;33m\u001b[0m\u001b[0m\n\u001b[1;32m----> 2\u001b[1;33m \u001b[0mdf_new\u001b[0m \u001b[1;33m=\u001b[0m \u001b[0mpd\u001b[0m\u001b[1;33m.\u001b[0m\u001b[0mDataFrame\u001b[0m\u001b[1;33m(\u001b[0m\u001b[1;33m{\u001b[0m\u001b[1;34m'GEN ABREV'\u001b[0m\u001b[1;33m:\u001b[0m \u001b[0mlista\u001b[0m\u001b[1;33m}\u001b[0m\u001b[1;33m)\u001b[0m\u001b[1;33m\u001b[0m\u001b[1;33m\u001b[0m\u001b[0m\n\u001b[0m\u001b[0;32m      3\u001b[0m \u001b[0marchivo2\u001b[0m \u001b[1;33m=\u001b[0m \u001b[0mload_workbook\u001b[0m\u001b[1;33m(\u001b[0m\u001b[1;34m\"Reporte.xlsx\"\u001b[0m\u001b[1;33m)\u001b[0m\u001b[1;33m\u001b[0m\u001b[1;33m\u001b[0m\u001b[0m\n\u001b[0;32m      4\u001b[0m \u001b[1;33m\u001b[0m\u001b[0m\n\u001b[0;32m      5\u001b[0m \u001b[0mws\u001b[0m\u001b[1;33m=\u001b[0m\u001b[0marchivo2\u001b[0m\u001b[1;33m[\u001b[0m\u001b[1;34m'Hoja1'\u001b[0m\u001b[1;33m]\u001b[0m\u001b[1;33m\u001b[0m\u001b[1;33m\u001b[0m\u001b[0m\n",
      "\u001b[1;31mNameError\u001b[0m: name 'lista' is not defined"
     ]
    }
   ],
   "source": [
    "from openpyxl import load_workbook\n",
    "df_new = pd.DataFrame({'GEN ABREV': lista})\n",
    "archivo2 = load_workbook(\"Reporte.xlsx\")\n",
    "\n",
    "ws=archivo2['Hoja1']\n",
    "for index, row in df_new.iterrows():\n",
    "    cell = 'B%d'  % (index + 2)\n",
    "    ws[cell] = row[0]\n",
    "    \n",
    "archivo2.save(\"Reporte.xlsx\")"
   ]
  },
  {
   "cell_type": "code",
   "execution_count": null,
   "metadata": {},
   "outputs": [],
   "source": []
  }
 ],
 "metadata": {
  "kernelspec": {
   "display_name": "Python 3",
   "language": "python",
   "name": "python3"
  },
  "language_info": {
   "codemirror_mode": {
    "name": "ipython",
    "version": 3
   },
   "file_extension": ".py",
   "mimetype": "text/x-python",
   "name": "python",
   "nbconvert_exporter": "python",
   "pygments_lexer": "ipython3",
   "version": "3.8.8"
  }
 },
 "nbformat": 4,
 "nbformat_minor": 4
}
