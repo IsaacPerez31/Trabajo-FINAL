{
 "cells": [
  {
   "cell_type": "code",
   "execution_count": 1,
   "id": "90f2e88e",
   "metadata": {},
   "outputs": [
    {
     "name": "stdout",
     "output_type": "stream",
     "text": [
      "    Unnamed: 0 Unnamed: 1    Unnamed: 2 Unnamed: 3    Unnamed: 4  \\\n",
      "0           Bt         N°  N° Articulos        Sel     Gen Abrev   \n",
      "1          NaN          1           NaN        NaN     TRNAS-GGA   \n",
      "2          NaN          2           NaN        NaN  LOC102173449   \n",
      "3          NaN          3           NaN        NaN  LOC102169333   \n",
      "4          NaN          4           NaN        NaN  LOC108636757   \n",
      "..         ...        ...           ...        ...           ...   \n",
      "219        NaN        NaN           NaN        NaN      Milagros   \n",
      "220        NaN        NaN           NaN        NaN      Milagros   \n",
      "221        NaN        NaN           NaN        NaN      Milagros   \n",
      "222        NaN        NaN           NaN        NaN      Milagros   \n",
      "223        NaN        NaN           NaN        NaN      Milagros   \n",
      "\n",
      "              Unnamed: 5                                        Unnamed: 6  \\\n",
      "0               Category                                  Name of the gene   \n",
      "1                    NaN                                               NaN   \n",
      "2                 pseudo                       olfactory receptor 6C2-like   \n",
      "3                 pseudo  probable palmitoyltransferase ZDHHC16 pseudogene   \n",
      "4                  ncRNA                      uncharacterized LOC108636757   \n",
      "..                   ...                                               ...   \n",
      "219  2021-09-16 00:00:00                                                25   \n",
      "220  2021-09-20 00:00:00                           Termino de los 25 genes   \n",
      "221  2021-09-23 00:00:00                                Avance de 38 genes   \n",
      "222  2021-09-27 00:00:00                                Avance de 38 genes   \n",
      "223  2021-09-30 00:00:00                               Termino de 40 genes   \n",
      "\n",
      "    Localización Unnamed: 8 BREAST (Genecards)  ... Unnamed: 35 Unnamed: 36  \\\n",
      "0         Inicio      Final             RNASeq  ...         NaN         NaN   \n",
      "1       32091689   32091761                NaN  ...         NaN         NaN   \n",
      "2       32837131   32838076                NaN  ...         NaN         NaN   \n",
      "3       33089112   33090132                NaN  ...         NaN         NaN   \n",
      "4       33764252   33768221                NaN  ...         NaN         NaN   \n",
      "..           ...        ...                ...  ...         ...         ...   \n",
      "219         12am        1pm                  1  ...         NaN         NaN   \n",
      "220           11        1pm                  2  ...         NaN         NaN   \n",
      "221        11.30   12:30:00                  1  ...         NaN         NaN   \n",
      "222     12:00:00          1                  1  ...         NaN         NaN   \n",
      "223           11         12                  1  ...         NaN         NaN   \n",
      "\n",
      "    Unnamed: 37 Unnamed: 38 Unnamed: 39 Unnamed: 40 Unnamed: 41 Unnamed: 42  \\\n",
      "0           NaN         NaN         NaN         NaN         NaN         NaN   \n",
      "1           NaN         NaN         NaN         NaN         NaN         NaN   \n",
      "2           NaN         NaN         NaN         NaN         NaN         NaN   \n",
      "3           NaN         NaN         NaN         NaN         NaN         NaN   \n",
      "4           NaN         NaN         NaN         NaN         NaN         NaN   \n",
      "..          ...         ...         ...         ...         ...         ...   \n",
      "219         NaN         NaN         NaN         NaN         NaN         NaN   \n",
      "220         NaN         NaN         NaN         NaN         NaN         NaN   \n",
      "221         NaN         NaN         NaN         NaN         NaN         NaN   \n",
      "222         NaN         NaN         NaN         NaN         NaN         NaN   \n",
      "223         NaN         NaN         NaN         NaN         NaN         NaN   \n",
      "\n",
      "     Unnamed: 43  Unnamed: 44  \n",
      "0            NaN          NaN  \n",
      "1            NaN          NaN  \n",
      "2            NaN          NaN  \n",
      "3            NaN          NaN  \n",
      "4            NaN          NaN  \n",
      "..           ...          ...  \n",
      "219          NaN          NaN  \n",
      "220          NaN          NaN  \n",
      "221          NaN          NaN  \n",
      "222          NaN          NaN  \n",
      "223          NaN          NaN  \n",
      "\n",
      "[224 rows x 45 columns]\n"
     ]
    }
   ],
   "source": [
    "import pandas as pd\n",
    "import openpyxl\n",
    "import requests\n",
    "from bs4 import BeautifulSoup\n",
    "\n",
    "archivo = pd.read_excel(\"02 Ch Genes ordenados con vecinos.xlsx\", sheet_name='C1 Milagros')\n",
    "print(archivo)"
   ]
  },
  {
   "cell_type": "code",
   "execution_count": 2,
   "id": "0e60c375",
   "metadata": {},
   "outputs": [
    {
     "name": "stdout",
     "output_type": "stream",
     "text": [
      "['Gen Abrev' 'TRNAS-GGA' 'LOC102173449' 'LOC102169333' 'LOC108636757'\n",
      " 'LOC102187712' 'VGLL3' 'CHMP2B' 'POU1F1' 'HTR1F' 'LOC102188976' 'CGGBP1'\n",
      " 'ZNF654' 'C1H3orf38' 'LOC102190548' 'SLC12A8' 'LOC106502043' 'ZNF148'\n",
      " 'SNX4' 'OSBPL11' 'LMLN' 'RPL35A' 'IQCG' 'LRCH3' 'FYTTD1' 'RUBCN' 'MUC20'\n",
      " 'MUC4' 'TNK2' 'TFRC' 'ZDHHC19' 'SLC51A' 'PCYT1A' 'TCTEX1D2' 'TM4SF19'\n",
      " 'UBXN7' 'LOC102173689' 'LOC106501980' 'RNF168' 'SMCO1' 'WDR53' 'FBXO45'\n",
      " 'LOC102175715' 'NRROS' 'CEP19' 'PIGX' 'PAK2' 'LOC108635601' 'SENP5'\n",
      " 'NCBP2' 'PIGZ' 'LOC102176365' 'MELTF' 'RTP2' 'SST' 'RTP4' 'LOC102171192'\n",
      " 'MASP1' 'RTP1' 'LOC102179137' 'ST6GAL1' 'TRNAK-UUU' 'ADIPOQ' 'RFC4'\n",
      " 'EIF4A2' 'MIR1248' 'KNG1' 'HRG' 'FETUB' 'AHSG' 'LOC108635832' 'DNAJB11'\n",
      " 'TBCCD1' 'CRYGS' 'DGKG' 'ETV5' 'LOC102179418' 'LOC108635834'\n",
      " 'LOC102178398' 'IGF2BP2' 'SENP2' 'POLR2H' 'CLCN2' 'LOC106502122'\n",
      " 'FAM131A' 'EIF4G1' 'PSMD2' 'ECE2' 'CAMK2N2' 'ALG3' 'MIR1224' 'ABCF3'\n",
      " 'AP2M1' 'DVL3' 'EIF2B5' 'LOC102185396' 'LOC102185870' 'LOC102183010'\n",
      " 'LOC108636852' 'LOC102183269' 'ABCC5' 'LOC102183549' 'PARL' 'MAP6D1'\n",
      " 'YEATS2' 'LOC102187268' 'KLHL24' 'LOC108636351' 'KLHL6' 'LOC102188899'\n",
      " 'MCF2L2' 'LOC102189625' 'LOC108635871' 'B3GNT5' 'LOC106501989' 'LAMP3'\n",
      " 'MCCC1' 'DCUN1D1' 'ATP11B' 'TRNAS-GGA' 'LOC106502158' 'TNIK' 'SLC2A2'\n",
      " 'LOC102189522' 'EIF5A2' 'RPL22L1' 'SLC7A14' 'CLDN11' 'SKIL' 'PRKCI'\n",
      " 'PHC3' 'LOC102179814' 'GPR160' 'LOC108636005' 'LOC102189800' 'SEC62'\n",
      " 'SAMD7' 'LRRC31' 'LRRIQ4' 'TRNAY-GUA' 'LRRC34' 'MYNN' 'ACTRT3'\n",
      " 'TRNAV-AAC' 'LOC108636013' 'LOC106502248' 'SHOX2' 'VEPH1' 'LOC102179325'\n",
      " 'PTX3' 'LOC108636061' 'CCNL1' 'LOC106502323' 'LEKR1' 'TIPARP'\n",
      " 'LOC102177566' 'SSR3' 'LOC102179240' 'LOC102179815' 'RAP2B' 'P2RY1'\n",
      " 'LOC106502324' 'MBNL1' 'LOC102180350' 'SUCNR1' 'LOC102189434'\n",
      " 'LOC102181165' 'LOC102176168' 'LOC102189713' 'LOC102179183'\n",
      " 'LOC102179464' 'LOC102178896' 'LOC108636081' 'TFF3' 'TFF2' 'TFF1'\n",
      " 'TMPRSS3' 'UBASH3A' 'RSPH1' 'SLC37A1' 'PDE9A' 'WDR4' 'NDUFV3' 'PKNOX1'\n",
      " 'ADARB1' 'POFUT2' 'COL18A1' 'SLC19A1' 'PCBP3' 'LOC102190823' 'COL6A1'\n",
      " 'COL6A2' 'FTCD' 'SPATC1L' 'LSS' 'MCM3AP' 'YBEY' 'C1H21orf58' 'PCNT'\n",
      " 'LOC108636576' 'LOC102169226' 'DIP2A' 'S100B' 'PRMT2' 'FBXO25' 'TDRP'\n",
      " 'LOC102177758' 'DAZL' 'PLCL2' 'TBC1D5' 'TRNAW-CCA' 'SATB1' 'KCNH8' nan\n",
      " nan 'Persona' 'Milagros' 'Milagros' 'Milagros' 'Milagros' 'Milagros'\n",
      " 'Milagros' 'Milagros' 'Milagros']\n"
     ]
    }
   ],
   "source": [
    "values = archivo[\"Unnamed: 4\"].values\n",
    "print(values)"
   ]
  },
  {
   "cell_type": "code",
   "execution_count": null,
   "id": "8df25c44",
   "metadata": {},
   "outputs": [],
   "source": []
  }
 ],
 "metadata": {
  "kernelspec": {
   "display_name": "Python 3",
   "language": "python",
   "name": "python3"
  },
  "language_info": {
   "codemirror_mode": {
    "name": "ipython",
    "version": 3
   },
   "file_extension": ".py",
   "mimetype": "text/x-python",
   "name": "python",
   "nbconvert_exporter": "python",
   "pygments_lexer": "ipython3",
   "version": "3.8.8"
  }
 },
 "nbformat": 4,
 "nbformat_minor": 5
}
