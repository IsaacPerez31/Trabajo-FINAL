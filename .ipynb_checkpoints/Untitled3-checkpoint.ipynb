{
 "cells": [
  {
   "cell_type": "code",
   "execution_count": 1,
   "id": "341a0788",
   "metadata": {},
   "outputs": [
    {
     "ename": "SyntaxError",
     "evalue": "(unicode error) 'unicodeescape' codec can't decode bytes in position 2-3: truncated \\UXXXXXXXX escape (<ipython-input-1-e9f2e5417a24>, line 6)",
     "output_type": "error",
     "traceback": [
      "\u001b[1;36m  File \u001b[1;32m\"<ipython-input-1-e9f2e5417a24>\"\u001b[1;36m, line \u001b[1;32m6\u001b[0m\n\u001b[1;33m    archivo_excel= pd.read_excel(\"C:\\Users\\macut\\Desktop\\4.Lenguaje de Programacion 2\\TRABAJO FINAL/02 Ch Genes ordenados con vecinos\")\u001b[0m\n\u001b[1;37m                                 ^\u001b[0m\n\u001b[1;31mSyntaxError\u001b[0m\u001b[1;31m:\u001b[0m (unicode error) 'unicodeescape' codec can't decode bytes in position 2-3: truncated \\UXXXXXXXX escape\n"
     ]
    }
   ],
   "source": [
    "import requests\n",
    "from bs4 import BeautifulSoup\n",
    "import pandas as pd\n",
    "import openpyxl\n",
    "\n",
    "archivo_excel= pd.read_excel(\"C:\\Users\\macut\\Desktop\\4.Lenguaje de Programacion 2\\TRABAJO FINAL/02 Ch Genes ordenados con vecinos\")\n",
    "lista_genes_abreviados = list(archivo_excel[\"GEN ABREV\"])\n"
   ]
  },
  {
   "cell_type": "code",
   "execution_count": null,
   "id": "2b445471",
   "metadata": {},
   "outputs": [],
   "source": []
  }
 ],
 "metadata": {
  "kernelspec": {
   "display_name": "Python 3",
   "language": "python",
   "name": "python3"
  },
  "language_info": {
   "codemirror_mode": {
    "name": "ipython",
    "version": 3
   },
   "file_extension": ".py",
   "mimetype": "text/x-python",
   "name": "python",
   "nbconvert_exporter": "python",
   "pygments_lexer": "ipython3",
   "version": "3.8.8"
  }
 },
 "nbformat": 4,
 "nbformat_minor": 5
}
